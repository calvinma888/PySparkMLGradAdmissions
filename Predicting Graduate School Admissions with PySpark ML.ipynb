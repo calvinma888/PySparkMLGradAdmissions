{
 "cells": [
  {
   "cell_type": "markdown",
   "metadata": {},
   "source": [
    "# Predicting Graduate School Admissions with PySpark ML"
   ]
  },
  {
   "cell_type": "markdown",
   "metadata": {
    "id": "a9huiQF8yfIK"
   },
   "source": [
    "### Yu chien (Calvin) Ma"
   ]
  },
  {
   "cell_type": "markdown",
   "metadata": {
    "id": "rZtskxrQyg3e"
   },
   "source": [
    "## Installing Dependencies & Creating a SparkSession\n"
   ]
  },
  {
   "cell_type": "code",
   "execution_count": 2,
   "metadata": {
    "id": "1wZpO2gxy7Pt"
   },
   "outputs": [],
   "source": [
    "#create a sparksession"
   ]
  },
  {
   "cell_type": "code",
   "execution_count": 3,
   "metadata": {},
   "outputs": [
    {
     "data": {
      "text/plain": [
       "'C:\\\\Users\\\\calvi\\\\anaconda3\\\\lib\\\\site-packages\\\\pyspark'"
      ]
     },
     "execution_count": 3,
     "metadata": {},
     "output_type": "execute_result"
    }
   ],
   "source": [
    "import findspark\n",
    "findspark.init()\n",
    "findspark.find()"
   ]
  },
  {
   "cell_type": "code",
   "execution_count": 4,
   "metadata": {},
   "outputs": [],
   "source": [
    "from pyspark.sql import SparkSession\n",
    "\n",
    "spark = SparkSession.builder \\\n",
    ".appName('spark') \\\n",
    ".master('local[*]') \\\n",
    ".config('spark.sql.execution.arrow.pyspark.enabled', True) \\\n",
    ".config('spark.sql.session.timeZone', 'UTC') \\\n",
    ".config('spark.driver.memory','16G') \\\n",
    ".config('spark.ui.showConsoleProgress', True) \\\n",
    ".config('spark.sql.repl.eagerEval.enabled', True) \\\n",
    ".getOrCreate()"
   ]
  },
  {
   "cell_type": "markdown",
   "metadata": {
    "id": "8t7JFc_My__A"
   },
   "source": [
    "## Cloning & Exploring dataset"
   ]
  },
  {
   "cell_type": "code",
   "execution_count": 86,
   "metadata": {
    "id": "C0oRpI4ezFgc"
   },
   "outputs": [
    {
     "name": "stderr",
     "output_type": "stream",
     "text": [
      "Cloning into 'PySparkMLGradAdmissions'...\n"
     ]
    }
   ],
   "source": [
    "#clone the dataset\n",
    "!git clone https://github.com/calvinma888/PySparkML_GradAdmissionsChance.git"
   ]
  },
  {
   "cell_type": "code",
   "execution_count": 13,
   "metadata": {
    "id": "Evfd9ACizers"
   },
   "outputs": [],
   "source": [
    "#path of dataset\n",
    "path = r\"C:\\Users\\calvi\\Documents\\Portfolio Projects\\admission_dataset\\Grad_Admissions.csv\""
   ]
  },
  {
   "cell_type": "code",
   "execution_count": 14,
   "metadata": {
    "id": "q6sF2NVazjtU"
   },
   "outputs": [],
   "source": [
    "#create a spark dataframe\n",
    "df = spark.read.csv(path, header=True, inferSchema= True)"
   ]
  },
  {
   "cell_type": "code",
   "execution_count": 15,
   "metadata": {
    "id": "cG6UhIUuznfJ"
   },
   "outputs": [
    {
     "name": "stdout",
     "output_type": "stream",
     "text": [
      "+---------+---------+-----------+-----------------+---+---+----+--------+---------------+\n",
      "|Serial No|GRE Score|TOEFL Score|University Rating|SOP|LOR|CGPA|Research|Chance of Admit|\n",
      "+---------+---------+-----------+-----------------+---+---+----+--------+---------------+\n",
      "|        1|      337|        118|                4|4.5|4.5|9.65|       1|           0.92|\n",
      "|        2|      324|        107|                4|4.0|4.5|8.87|       1|           0.76|\n",
      "|        3|      316|        104|                3|3.0|3.5| 8.0|       1|           0.72|\n",
      "|        4|      322|        110|                3|3.5|2.5|8.67|       1|            0.8|\n",
      "|        5|      314|        103|                2|2.0|3.0|8.21|       0|           0.65|\n",
      "+---------+---------+-----------+-----------------+---+---+----+--------+---------------+\n",
      "only showing top 5 rows\n",
      "\n"
     ]
    }
   ],
   "source": [
    "#display dataframe\n",
    "df.show(5)"
   ]
  },
  {
   "cell_type": "code",
   "execution_count": 16,
   "metadata": {
    "id": "tgtWocArzqVR"
   },
   "outputs": [
    {
     "name": "stdout",
     "output_type": "stream",
     "text": [
      "(500, 9)\n"
     ]
    }
   ],
   "source": [
    "#get the no.of rows & columns\n",
    "print((df.count(), len(df.columns)))"
   ]
  },
  {
   "cell_type": "code",
   "execution_count": 18,
   "metadata": {
    "id": "OWQTe006zt7O"
   },
   "outputs": [
    {
     "name": "stdout",
     "output_type": "stream",
     "text": [
      "root\n",
      " |-- Serial No: integer (nullable = true)\n",
      " |-- GRE Score: integer (nullable = true)\n",
      " |-- TOEFL Score: integer (nullable = true)\n",
      " |-- University Rating: integer (nullable = true)\n",
      " |-- SOP: double (nullable = true)\n",
      " |-- LOR: double (nullable = true)\n",
      " |-- CGPA: double (nullable = true)\n",
      " |-- Research: integer (nullable = true)\n",
      " |-- Chance of Admit: double (nullable = true)\n",
      "\n"
     ]
    }
   ],
   "source": [
    "#print schema \n",
    "df.printSchema()"
   ]
  },
  {
   "cell_type": "code",
   "execution_count": 21,
   "metadata": {
    "id": "locEx8HDz264"
   },
   "outputs": [
    {
     "data": {
      "text/html": [
       "<table border='1'>\n",
       "<tr><th>summary</th><th>Serial No</th><th>GRE Score</th><th>TOEFL Score</th><th>University Rating</th><th>SOP</th><th>LOR</th><th>CGPA</th><th>Research</th><th>Chance of Admit</th></tr>\n",
       "<tr><td>count</td><td>500</td><td>500</td><td>500</td><td>500</td><td>500</td><td>500</td><td>500</td><td>500</td><td>500</td></tr>\n",
       "<tr><td>mean</td><td>250.5</td><td>316.472</td><td>107.192</td><td>3.114</td><td>3.374</td><td>3.484</td><td>8.576440000000003</td><td>0.56</td><td>0.7217399999999996</td></tr>\n",
       "<tr><td>stddev</td><td>144.4818327679989</td><td>11.295148372354712</td><td>6.081867659564538</td><td>1.143511800759815</td><td>0.9910036207566072</td><td>0.9254495738978191</td><td>0.6048128003332054</td><td>0.4968840786090358</td><td>0.14114040395030228</td></tr>\n",
       "<tr><td>min</td><td>1</td><td>290</td><td>92</td><td>1</td><td>1.0</td><td>1.0</td><td>6.8</td><td>0</td><td>0.34</td></tr>\n",
       "<tr><td>max</td><td>500</td><td>340</td><td>120</td><td>5</td><td>5.0</td><td>5.0</td><td>9.92</td><td>1</td><td>0.97</td></tr>\n",
       "</table>\n"
      ],
      "text/plain": [
       "+-------+-----------------+------------------+-----------------+-----------------+------------------+------------------+------------------+------------------+-------------------+\n",
       "|summary|        Serial No|         GRE Score|      TOEFL Score|University Rating|               SOP|               LOR|              CGPA|          Research|    Chance of Admit|\n",
       "+-------+-----------------+------------------+-----------------+-----------------+------------------+------------------+------------------+------------------+-------------------+\n",
       "|  count|              500|               500|              500|              500|               500|               500|               500|               500|                500|\n",
       "|   mean|            250.5|           316.472|          107.192|            3.114|             3.374|             3.484| 8.576440000000003|              0.56| 0.7217399999999996|\n",
       "| stddev|144.4818327679989|11.295148372354712|6.081867659564538|1.143511800759815|0.9910036207566072|0.9254495738978191|0.6048128003332054|0.4968840786090358|0.14114040395030228|\n",
       "|    min|                1|               290|               92|                1|               1.0|               1.0|               6.8|                 0|               0.34|\n",
       "|    max|              500|               340|              120|                5|               5.0|               5.0|              9.92|                 1|               0.97|\n",
       "+-------+-----------------+------------------+-----------------+-----------------+------------------+------------------+------------------+------------------+-------------------+"
      ]
     },
     "execution_count": 21,
     "metadata": {},
     "output_type": "execute_result"
    }
   ],
   "source": [
    "#get the summary statistics\n",
    "df.describe()"
   ]
  },
  {
   "cell_type": "markdown",
   "metadata": {
    "id": "6uDdoEKsz6h6"
   },
   "source": [
    "## Data Cleaning"
   ]
  },
  {
   "cell_type": "code",
   "execution_count": 22,
   "metadata": {
    "id": "o6gJAFo30G9s"
   },
   "outputs": [],
   "source": [
    "#drop the unnecessary column\n",
    "df = df.drop('Serial No')"
   ]
  },
  {
   "cell_type": "code",
   "execution_count": 23,
   "metadata": {
    "id": "_lOPoDVk0OFH"
   },
   "outputs": [
    {
     "name": "stdout",
     "output_type": "stream",
     "text": [
      "+---------+-----------+-----------------+---+---+----+--------+---------------+\n",
      "|GRE Score|TOEFL Score|University Rating|SOP|LOR|CGPA|Research|Chance of Admit|\n",
      "+---------+-----------+-----------------+---+---+----+--------+---------------+\n",
      "|      337|        118|                4|4.5|4.5|9.65|       1|           0.92|\n",
      "|      324|        107|                4|4.0|4.5|8.87|       1|           0.76|\n",
      "|      316|        104|                3|3.0|3.5| 8.0|       1|           0.72|\n",
      "|      322|        110|                3|3.5|2.5|8.67|       1|            0.8|\n",
      "|      314|        103|                2|2.0|3.0|8.21|       0|           0.65|\n",
      "|      330|        115|                5|4.5|3.0|9.34|       1|            0.9|\n",
      "|      321|        109|                3|3.0|4.0| 8.2|       1|           0.75|\n",
      "|      308|        101|                2|3.0|4.0| 7.9|       0|           0.68|\n",
      "|      302|        102|                1|2.0|1.5| 8.0|       0|            0.5|\n",
      "|      323|        108|                3|3.5|3.0| 8.6|       0|           0.45|\n",
      "|      325|        106|                3|3.5|4.0| 8.4|       1|           0.52|\n",
      "|      327|        111|                4|4.0|4.5| 9.0|       1|           0.84|\n",
      "|      328|        112|                4|4.0|4.5| 9.1|       1|           0.78|\n",
      "|      307|        109|                3|4.0|3.0| 8.0|       1|           0.62|\n",
      "|      311|        104|                3|3.5|2.0| 8.2|       1|           0.61|\n",
      "|      314|        105|                3|3.5|2.5| 8.3|       0|           0.54|\n",
      "|      317|        107|                3|4.0|3.0| 8.7|       0|           0.66|\n",
      "|      319|        106|                3|4.0|3.0| 8.0|       1|           0.65|\n",
      "|      318|        110|                3|4.0|3.0| 8.8|       0|           0.63|\n",
      "|      303|        102|                3|3.5|3.0| 8.5|       0|           0.62|\n",
      "+---------+-----------+-----------------+---+---+----+--------+---------------+\n",
      "only showing top 20 rows\n",
      "\n"
     ]
    }
   ],
   "source": [
    "#display the dataframe\n",
    "df.show()"
   ]
  },
  {
   "cell_type": "code",
   "execution_count": 24,
   "metadata": {
    "id": "Au73oUZJ0Qv7"
   },
   "outputs": [
    {
     "name": "stdout",
     "output_type": "stream",
     "text": [
      "GRE Score: 0\n",
      "TOEFL Score: 0\n",
      "University Rating: 0\n",
      "SOP: 0\n",
      "LOR: 0\n",
      "CGPA: 0\n",
      "Research: 0\n",
      "Chance of Admit: 0\n"
     ]
    }
   ],
   "source": [
    "#check for null values\n",
    "for i in df.columns:\n",
    "    print (i+\":\",df[df[i].isNull()].count())"
   ]
  },
  {
   "cell_type": "markdown",
   "metadata": {
    "id": "prkDI9Dc0SoH"
   },
   "source": [
    "## Correlation Analysis & Feature Selection"
   ]
  },
  {
   "cell_type": "code",
   "execution_count": 27,
   "metadata": {
    "id": "eFhxSRRj0Ypa"
   },
   "outputs": [
    {
     "name": "stdout",
     "output_type": "stream",
     "text": [
      "Correlation to chance of admit for GRE Score is 0.8103506354632598\n",
      "Correlation to chance of admit for TOEFL Score is 0.7922276143050823\n",
      "Correlation to chance of admit for University Rating is 0.6901323687886892\n",
      "Correlation to chance of admit for SOP is 0.6841365241316723\n",
      "Correlation to chance of admit for LOR is 0.6453645135280112\n",
      "Correlation to chance of admit for CGPA is 0.882412574904574\n",
      "Correlation to chance of admit for Research is 0.5458710294711379\n",
      "Correlation to chance of admit for Chance of Admit is 1.0\n"
     ]
    }
   ],
   "source": [
    "# correlation analysis\n",
    "for col in df.columns:\n",
    "    print('Correlation to chance of admit for {} is {}'.format(col, \n",
    "                                df.stat.corr('Chance of Admit',col)))"
   ]
  },
  {
   "cell_type": "code",
   "execution_count": 29,
   "metadata": {
    "id": "UXNOknvo0dV2"
   },
   "outputs": [],
   "source": [
    "# feature selection, selecting the top three features with the highest correlation\n",
    "from pyspark.ml.feature import VectorAssembler\n",
    "assembler = VectorAssembler(inputCols=['GRE Score','TOEFL Score','CGPA'],outputCol='features')"
   ]
  },
  {
   "cell_type": "code",
   "execution_count": 30,
   "metadata": {
    "id": "JOzlkPaz0ibL"
   },
   "outputs": [],
   "source": [
    "#display dataframe\n",
    "output_data = assembler.transform(df)"
   ]
  },
  {
   "cell_type": "code",
   "execution_count": 31,
   "metadata": {},
   "outputs": [
    {
     "name": "stdout",
     "output_type": "stream",
     "text": [
      "+---------+-----------+-----------------+---+---+----+--------+---------------+------------------+\n",
      "|GRE Score|TOEFL Score|University Rating|SOP|LOR|CGPA|Research|Chance of Admit|          features|\n",
      "+---------+-----------+-----------------+---+---+----+--------+---------------+------------------+\n",
      "|      337|        118|                4|4.5|4.5|9.65|       1|           0.92|[337.0,118.0,9.65]|\n",
      "|      324|        107|                4|4.0|4.5|8.87|       1|           0.76|[324.0,107.0,8.87]|\n",
      "|      316|        104|                3|3.0|3.5| 8.0|       1|           0.72| [316.0,104.0,8.0]|\n",
      "|      322|        110|                3|3.5|2.5|8.67|       1|            0.8|[322.0,110.0,8.67]|\n",
      "|      314|        103|                2|2.0|3.0|8.21|       0|           0.65|[314.0,103.0,8.21]|\n",
      "|      330|        115|                5|4.5|3.0|9.34|       1|            0.9|[330.0,115.0,9.34]|\n",
      "|      321|        109|                3|3.0|4.0| 8.2|       1|           0.75| [321.0,109.0,8.2]|\n",
      "|      308|        101|                2|3.0|4.0| 7.9|       0|           0.68| [308.0,101.0,7.9]|\n",
      "|      302|        102|                1|2.0|1.5| 8.0|       0|            0.5| [302.0,102.0,8.0]|\n",
      "|      323|        108|                3|3.5|3.0| 8.6|       0|           0.45| [323.0,108.0,8.6]|\n",
      "|      325|        106|                3|3.5|4.0| 8.4|       1|           0.52| [325.0,106.0,8.4]|\n",
      "|      327|        111|                4|4.0|4.5| 9.0|       1|           0.84| [327.0,111.0,9.0]|\n",
      "|      328|        112|                4|4.0|4.5| 9.1|       1|           0.78| [328.0,112.0,9.1]|\n",
      "|      307|        109|                3|4.0|3.0| 8.0|       1|           0.62| [307.0,109.0,8.0]|\n",
      "|      311|        104|                3|3.5|2.0| 8.2|       1|           0.61| [311.0,104.0,8.2]|\n",
      "|      314|        105|                3|3.5|2.5| 8.3|       0|           0.54| [314.0,105.0,8.3]|\n",
      "|      317|        107|                3|4.0|3.0| 8.7|       0|           0.66| [317.0,107.0,8.7]|\n",
      "|      319|        106|                3|4.0|3.0| 8.0|       1|           0.65| [319.0,106.0,8.0]|\n",
      "|      318|        110|                3|4.0|3.0| 8.8|       0|           0.63| [318.0,110.0,8.8]|\n",
      "|      303|        102|                3|3.5|3.0| 8.5|       0|           0.62| [303.0,102.0,8.5]|\n",
      "+---------+-----------+-----------------+---+---+----+--------+---------------+------------------+\n",
      "only showing top 20 rows\n",
      "\n"
     ]
    }
   ],
   "source": [
    "#The selected features are appended onto the last column as 'features'\n",
    "output_data.show()"
   ]
  },
  {
   "cell_type": "markdown",
   "metadata": {
    "id": "l6FucLAC0r5I"
   },
   "source": [
    "## Building the Linear Regression Model"
   ]
  },
  {
   "cell_type": "code",
   "execution_count": 32,
   "metadata": {
    "id": "RMYN_8jJ0wDR"
   },
   "outputs": [],
   "source": [
    "#import Linearregression and create final data\n",
    "from pyspark.ml.regression import LinearRegression\n",
    "final_data = output_data.select('features','Chance of Admit')"
   ]
  },
  {
   "cell_type": "code",
   "execution_count": 33,
   "metadata": {
    "id": "MNSEfLCp09oO"
   },
   "outputs": [
    {
     "name": "stdout",
     "output_type": "stream",
     "text": [
      "root\n",
      " |-- features: vector (nullable = true)\n",
      " |-- Chance of Admit: double (nullable = true)\n",
      "\n"
     ]
    }
   ],
   "source": [
    "#print schema of final data\n",
    "final_data.printSchema()"
   ]
  },
  {
   "cell_type": "code",
   "execution_count": 35,
   "metadata": {
    "id": "vOJylIiS1Dre"
   },
   "outputs": [],
   "source": [
    "#split the dataset into training and testing set\n",
    "train, test = final_data.randomSplit([0.7,0.3], seed =100)"
   ]
  },
  {
   "cell_type": "code",
   "execution_count": 41,
   "metadata": {
    "id": "xoxFzm4A1Hee"
   },
   "outputs": [],
   "source": [
    "#build & train the model\n",
    "model = LinearRegression(featuresCol='features',labelCol='Chance of Admit').fit(train)"
   ]
  },
  {
   "cell_type": "code",
   "execution_count": 42,
   "metadata": {
    "id": "DDCZ9uvA1QLf"
   },
   "outputs": [
    {
     "name": "stdout",
     "output_type": "stream",
     "text": [
      "coefficients [0.002470874627298453,0.0027173207275365614,0.14657855695408284]\n",
      "intercept -1.6081093437904634\n"
     ]
    }
   ],
   "source": [
    "#get coefficients & intercept\n",
    "print('coefficients',model.coefficients)\n",
    "print('intercept',model.intercept)"
   ]
  },
  {
   "cell_type": "code",
   "execution_count": 53,
   "metadata": {
    "id": "bO6Duj1l1YJX"
   },
   "outputs": [],
   "source": [
    "#get summary of the model\n",
    "summary = model.summary"
   ]
  },
  {
   "cell_type": "code",
   "execution_count": 57,
   "metadata": {
    "id": "ebi9LxFS1aBJ"
   },
   "outputs": [
    {
     "name": "stdout",
     "output_type": "stream",
     "text": [
      "RMSE:  0.06365691008911853\n",
      "R2:  0.7911588829079539\n"
     ]
    }
   ],
   "source": [
    "#print the rmse & r2 score\n",
    "print ('RMSE: ',summary.rootMeanSquaredError)\n",
    "print ('R2: ',summary.r2)"
   ]
  },
  {
   "cell_type": "markdown",
   "metadata": {
    "id": "b5lTskfK1eKV"
   },
   "source": [
    "## Evaluating & Saving the Model"
   ]
  },
  {
   "cell_type": "code",
   "execution_count": 58,
   "metadata": {
    "id": "l0TAwvGP1noC"
   },
   "outputs": [],
   "source": [
    "#transform on the test data\n",
    "predictions = model.transform(test)"
   ]
  },
  {
   "cell_type": "code",
   "execution_count": 59,
   "metadata": {
    "id": "T_DixZ6f1nvP"
   },
   "outputs": [
    {
     "name": "stdout",
     "output_type": "stream",
     "text": [
      "+------------------+---------------+-------------------+\n",
      "|          features|Chance of Admit|         prediction|\n",
      "+------------------+---------------+-------------------+\n",
      "| [294.0,93.0,7.36]|           0.46|0.44985680347823154|\n",
      "| [296.0,95.0,7.54]|           0.44|0.48661733443963673|\n",
      "|  [296.0,97.0,7.8]|           0.49| 0.5301624007027712|\n",
      "|[296.0,101.0,7.68]|            0.6| 0.5234422567784276|\n",
      "| [297.0,96.0,7.43]|           0.34|0.47568188852952265|\n",
      "| [297.0,100.0,7.9]|           0.52| 0.5554430932080878|\n",
      "|[297.0,101.0,7.67]|           0.57| 0.5244473458361849|\n",
      "| [298.0,99.0,7.46]|           0.53|  0.490702082048053|\n",
      "|[298.0,101.0,7.86]|           0.54| 0.5547681462847591|\n",
      "|[299.0,100.0,7.42]|           0.42|0.49002713512472473|\n",
      "|[299.0,100.0,7.88]|           0.51| 0.5574532713236025|\n",
      "|[299.0,100.0,7.89]|           0.59| 0.5589190568931435|\n",
      "|[299.0,100.0,8.02]|           0.63| 0.5779742692971741|\n",
      "| [299.0,106.0,8.4]|           0.64| 0.6499780453049455|\n",
      "| [300.0,95.0,8.22]|           0.62| 0.5961742516776067|\n",
      "|[300.0,101.0,7.88]|           0.59| 0.5626414666784378|\n",
      "| [300.0,105.0,7.8]|           0.58| 0.5617844650322574|\n",
      "|[301.0,100.0,8.04]|           0.67| 0.5858475896908528|\n",
      "|[301.0,102.0,8.13]|           0.68| 0.6044743012717939|\n",
      "|[301.0,106.0,8.47]|           0.57|  0.665180293546328|\n",
      "+------------------+---------------+-------------------+\n",
      "only showing top 20 rows\n",
      "\n"
     ]
    }
   ],
   "source": [
    "#display the predictions\n",
    "predictions.show(20)"
   ]
  },
  {
   "cell_type": "code",
   "execution_count": 64,
   "metadata": {
    "id": "vzxDnudZ1n3n"
   },
   "outputs": [],
   "source": [
    "#evaluate the model \n",
    "from pyspark.ml.evaluation import RegressionEvaluator\n",
    "evaluator = RegressionEvaluator(predictionCol='prediction', labelCol='Chance of Admit', metricName='rmse')"
   ]
  },
  {
   "cell_type": "code",
   "execution_count": 66,
   "metadata": {},
   "outputs": [
    {
     "name": "stdout",
     "output_type": "stream",
     "text": [
      "RMSE on the test data: 0.05930006971640625\n"
     ]
    }
   ],
   "source": [
    "print ('RMSE on the test data:',evaluator.evaluate(predictions))"
   ]
  },
  {
   "cell_type": "code",
   "execution_count": 79,
   "metadata": {
    "id": "WEeyiruX1n_I"
   },
   "outputs": [],
   "source": [
    "#save the model\n",
    "# model.write().overwrite().save(r\"C:\\Users\\calvi\\Documents\\Portfolio Projects\\predicting_grad_admissions_model\")"
   ]
  },
  {
   "cell_type": "code",
   "execution_count": 80,
   "metadata": {
    "id": "PK48FYRd2CMJ"
   },
   "outputs": [],
   "source": [
    "#load the model\n",
    "# from pyspark.ml.regression import LinearRegressionModel\n",
    "# model = LinearRegressionModel.load('predicting_grad_admissions_model')"
   ]
  },
  {
   "cell_type": "code",
   "execution_count": null,
   "metadata": {},
   "outputs": [],
   "source": []
  }
 ],
 "metadata": {
  "colab": {
   "name": "Admission_prediction_with_pyspark_ml.ipynb",
   "provenance": []
  },
  "kernelspec": {
   "display_name": "Python 3 (ipykernel)",
   "language": "python",
   "name": "python3"
  },
  "language_info": {
   "codemirror_mode": {
    "name": "ipython",
    "version": 3
   },
   "file_extension": ".py",
   "mimetype": "text/x-python",
   "name": "python",
   "nbconvert_exporter": "python",
   "pygments_lexer": "ipython3",
   "version": "3.9.7"
  }
 },
 "nbformat": 4,
 "nbformat_minor": 1
}
